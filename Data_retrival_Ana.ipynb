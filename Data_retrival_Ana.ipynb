{
 "cells": [
  {
   "cell_type": "markdown",
   "id": "e0f716df-0869-497b-8925-112558e52e40",
   "metadata": {},
   "source": [
    "# Collecting data 🔍\n",
    "For our final project we need to gather information. We will use the database from the WHO, specially the [the global health observatory](https://www.who.int/data/gho/data/indicators) for the following information:\n",
    "- [measles](https://www.who.int/data/gho/data/indicators/indicator-details/GHO/measles---number-of-reported-cases), last visited 15.07.24\n",
    "- [mumps](https://www.who.int/data/gho/data/indicators/indicator-details/GHO/mumps---number-of-reported-cases), last visited 15.07.24\n",
    "- [pertrussis](https://www.who.int/data/gho/data/indicators/indicator-details/GHO/pertussis-number-of-reported-cases), last visited 15.07.24\n",
    "- [poliomyelitis](https://www.who.int/data/gho/data/indicators/indicator-details/GHO/poliomyelitis---number-of-reported-cases), last visited 15.07.24\n",
    "- [tetanus](https://www.who.int/data/gho/data/indicators/indicator-details/GHO/total-tetanus---number-of-reported-cases), last visited 15.07.24\n",
    "- [diphteria](https://www.who.int/data/gho/data/indicators/indicator-details/GHO/diphtheria---number-of-reported-cases), last visited 15.07.24\n",
    "- [rubella](https://www.who.int/data/gho/data/indicators/indicator-details/GHO/rubella---number-of-reported-cases), last visited 15.07.24\n",
    "- [yellow fever](https://www.who.int/data/gho/data/indicators/indicator-details/GHO/yellow-fever-number-of-reported-cases), last visited 15.07.24\n",
    "- [malaria](https://www.who.int/data/gho/data/indicators/indicator-details/GHO/number-confirmed-malaria-cases), last visited 15.07.24\n",
    "- [leprosy](https://www.who.int/data/gho/data/indicators/indicator-details/GHO/number-of-new-leprosy-cases), last visited 15.07.24\n",
    "- [cholera](https://www.who.int/data/gho/data/indicators/indicator-details/GHO/number-of-reported-cases-of-cholera), last visited 15.07.24"
   ]
  },
  {
   "cell_type": "code",
   "execution_count": 4,
   "id": "c1ca3237-3d36-4b33-b648-2801ec5b2c44",
   "metadata": {
    "tags": []
   },
   "outputs": [],
   "source": [
    "import requests\n",
    "import pandas as pd\n",
    "\n",
    "# Define the base URL and indicator code for measles cases\n",
    "base_url = 'https://ghoapi.azureedge.net/api/'\n",
    "indicator_code_measles = 'WHS3_62'  # Indicator code for measles cases\n",
    "\n",
    "# Construct the full URL\n",
    "url_measles = f'{base_url}{indicator_code_measles}'\n",
    "\n",
    "# Make the API request\n",
    "response_measles = requests.get(url_measles)\n",
    "data_measles = response_measles.json()['value']\n",
    "# Create a DataFrame\n",
    "measles_df = pd.DataFrame(data_measles)\n"
   ]
  },
  {
   "cell_type": "code",
   "execution_count": 7,
   "id": "577e052a-610a-41f6-ba48-e2bff91a1c39",
   "metadata": {
    "tags": []
   },
   "outputs": [],
   "source": [
    "measles_df.to_csv('measles.csv')"
   ]
  },
  {
   "cell_type": "code",
   "execution_count": 6,
   "id": "1414d746-2d51-4ef6-b067-289b38243b7a",
   "metadata": {
    "tags": []
   },
   "outputs": [],
   "source": [
    "import requests\n",
    "import pandas as pd\n",
    "# Define the base URL and indicator code for mumps cases\n",
    "base_url = 'https://ghoapi.azureedge.net/api/'\n",
    "indicator_code_mumps = 'WHS3_53'  # Indicator code for mumps cases\n",
    "\n",
    "# Construct the full URL\n",
    "url_mumps = f'{base_url}{indicator_code_mumps}'\n",
    "\n",
    "# Make the API request\n",
    "response_mumps = requests.get(url_mumps)\n",
    "data_mumps = response_mumps.json()['value']\n",
    "# Create a DataFrame\n",
    "mumps_df = pd.DataFrame(data_mumps)\n"
   ]
  },
  {
   "cell_type": "code",
   "execution_count": 8,
   "id": "abc6bb97-d6ef-43f8-ac75-a8f56b83f3e2",
   "metadata": {},
   "outputs": [],
   "source": [
    "mumps_df.to_csv('mumps.csv')"
   ]
  },
  {
   "cell_type": "code",
   "execution_count": 8,
   "id": "16aa50ba-fe32-4850-8abb-a64e7564b699",
   "metadata": {
    "tags": []
   },
   "outputs": [],
   "source": [
    "import requests\n",
    "import pandas as pd\n",
    "# Define the base URL and indicator code for poliomyelitis cases\n",
    "base_url = 'https://ghoapi.azureedge.net/api/'\n",
    "indicator_code_polio = 'WHS3_49'  # Indicator code for poliomyelitis cases\n",
    "\n",
    "# Construct the full URL\n",
    "url_polio = f'{base_url}{indicator_code_polio}'\n",
    "\n",
    "# Make the API request\n",
    "response_polio = requests.get(url_polio)\n",
    "data_polio = response_polio.json()['value']\n",
    "# Create a DataFrame\n",
    "polio_df = pd.DataFrame(data_polio)"
   ]
  },
  {
   "cell_type": "code",
   "execution_count": 12,
   "id": "2a52cbbe-4d2a-48d0-a3e5-41cc235a22e9",
   "metadata": {
    "tags": []
   },
   "outputs": [],
   "source": [
    "polio_df.to_csv('polio.csv')"
   ]
  },
  {
   "cell_type": "code",
   "execution_count": 10,
   "id": "ca2c55cf-6526-4366-a4da-a29666df5386",
   "metadata": {
    "tags": []
   },
   "outputs": [],
   "source": [
    "import requests\n",
    "import pandas as pd\n",
    "# Define the base URL and indicator code for pertrussis cases\n",
    "base_url = 'https://ghoapi.azureedge.net/api/'\n",
    "indicator_code_pertrussis = 'WHS3_43'  # Indicator code for pertrussis cases\n",
    "\n",
    "# Construct the full URL\n",
    "url_pertrussis = f'{base_url}{indicator_code_pertrussis}'\n",
    "\n",
    "# Make the API request\n",
    "response_pertrussis = requests.get(url_pertrussis)\n",
    "data_pertrussis = response_pertrussis.json()['value']\n",
    "# Create a DataFrame\n",
    "pertrussis_df = pd.DataFrame(data_pertrussis)"
   ]
  },
  {
   "cell_type": "code",
   "execution_count": 16,
   "id": "f46cd02e-39d8-4bf9-b048-abc15b710c52",
   "metadata": {
    "tags": []
   },
   "outputs": [],
   "source": [
    "pertrussis_df.to_csv('pertrussis.csv')"
   ]
  },
  {
   "cell_type": "code",
   "execution_count": 12,
   "id": "37875a0e-057f-45f0-8049-ccbe9ca7c7b6",
   "metadata": {
    "tags": []
   },
   "outputs": [],
   "source": [
    "import requests\n",
    "import pandas as pd\n",
    "# Define the base URL and indicator code for tetanus cases\n",
    "base_url = 'https://ghoapi.azureedge.net/api/'\n",
    "indicator_code_tetanus = 'WHS3_46'  # Indicator code for tetanus cases\n",
    "\n",
    "# Construct the full URL\n",
    "url_tetanus = f'{base_url}{indicator_code_tetanus}'\n",
    "\n",
    "# Make the API request\n",
    "response_tetanus = requests.get(url_tetanus)\n",
    "data_tetanus = response_tetanus.json()['value']\n",
    "# Create a DataFrame\n",
    "tetanus_df = pd.DataFrame(data_tetanus)"
   ]
  },
  {
   "cell_type": "code",
   "execution_count": 25,
   "id": "a19d7b8d-bbc4-43c7-953a-e3bf0562464b",
   "metadata": {
    "tags": []
   },
   "outputs": [],
   "source": [
    "tetanus_df.to_csv('tetanus.csv')"
   ]
  },
  {
   "cell_type": "code",
   "execution_count": 14,
   "id": "5be3305d-b533-4b06-872d-c55e295ffadc",
   "metadata": {
    "tags": []
   },
   "outputs": [],
   "source": [
    "import requests\n",
    "import pandas as pd\n",
    "# Define the base URL and indicator code for diphteria cases\n",
    "base_url = 'https://ghoapi.azureedge.net/api/'\n",
    "indicator_code_diphteria = 'WHS3_41'  # Indicator code for diphteria cases\n",
    "\n",
    "# Construct the full URL\n",
    "url_diphteria = f'{base_url}{indicator_code_diphteria}'\n",
    "\n",
    "# Make the API request\n",
    "response_diphteria = requests.get(url_diphteria)\n",
    "data_diphteria = response_diphteria.json()['value']\n",
    "# Create a DataFrame\n",
    "diphteria_df = pd.DataFrame(data_diphteria)\n"
   ]
  },
  {
   "cell_type": "code",
   "execution_count": 33,
   "id": "86f91e40-d585-4572-857e-0ffd83768124",
   "metadata": {
    "tags": []
   },
   "outputs": [],
   "source": [
    "diphteria_df.to_csv('diphteria.csv')"
   ]
  },
  {
   "cell_type": "code",
   "execution_count": 16,
   "id": "e1d57232-3832-4181-abf3-dbe0f935b4a6",
   "metadata": {
    "tags": []
   },
   "outputs": [],
   "source": [
    "import requests\n",
    "import pandas as pd\n",
    "# Define the base URL and indicator code for rubella cases\n",
    "base_url = 'https://ghoapi.azureedge.net/api/'\n",
    "indicator_code_rubella = 'WHS3_57'  # Indicator code for rubella cases\n",
    "\n",
    "# Construct the full URL\n",
    "url_rubella = f'{base_url}{indicator_code_rubella}'\n",
    "\n",
    "# Make the API request\n",
    "response_rubella = requests.get(url_rubella)\n",
    "data_rubella = response_rubella.json()['value']\n",
    "# Create a DataFrame\n",
    "rubella_df = pd.DataFrame(data_rubella)\n"
   ]
  },
  {
   "cell_type": "code",
   "execution_count": 37,
   "id": "76a85074-c6ae-457d-bdf1-efbda79469ad",
   "metadata": {
    "tags": []
   },
   "outputs": [],
   "source": [
    "rubella_df.to_csv('rubella.csv')"
   ]
  },
  {
   "cell_type": "code",
   "execution_count": 18,
   "id": "17b16a47-42cf-4b0e-9217-469ff1d6c16a",
   "metadata": {
    "tags": []
   },
   "outputs": [],
   "source": [
    "import requests\n",
    "import pandas as pd\n",
    "# Define the base URL and indicator code for yellow fever cases\n",
    "base_url = 'https://ghoapi.azureedge.net/api/'\n",
    "indicator_code_yellow_fever = 'WHS3_50'  # Indicator code for yellow fever cases\n",
    "\n",
    "# Construct the full URL\n",
    "url_yellow_fever = f'{base_url}{indicator_code_yellow_fever}'\n",
    "\n",
    "# Make the API request\n",
    "response_yellow_fever = requests.get(url_yellow_fever)\n",
    "data_yellow_fever = response_yellow_fever.json()['value']\n",
    "# Create a DataFrame\n",
    "yellow_fever_df = pd.DataFrame(data_yellow_fever)\n"
   ]
  },
  {
   "cell_type": "code",
   "execution_count": 42,
   "id": "98f0fe05-879f-47dc-a139-dc49702f57d0",
   "metadata": {
    "tags": []
   },
   "outputs": [],
   "source": [
    "yellow_fever_df.to_csv('yellow_fever.csv')"
   ]
  },
  {
   "cell_type": "code",
   "execution_count": 20,
   "id": "b96758dc-e85c-4ac4-8615-db07fb818776",
   "metadata": {
    "tags": []
   },
   "outputs": [],
   "source": [
    "import requests\n",
    "import pandas as pd\n",
    "# Define the base URL and indicator code for malaria cases\n",
    "base_url = 'https://ghoapi.azureedge.net/api/'\n",
    "indicator_code_malaria = 'MALARIA_CONF_CASES'  # Indicator code for malaria cases\n",
    "\n",
    "# Construct the full URL\n",
    "url_malaria = f'{base_url}{indicator_code_malaria}'\n",
    "\n",
    "# Make the API request\n",
    "response_malaria = requests.get(url_malaria)\n",
    "data_malaria = response_malaria.json()['value']\n",
    "# Create a DataFrame\n",
    "malaria_df = pd.DataFrame(data_malaria)\n"
   ]
  },
  {
   "cell_type": "code",
   "execution_count": 47,
   "id": "bbded5e6-b82e-4c0e-9a10-1b4c6867ba1c",
   "metadata": {
    "tags": []
   },
   "outputs": [],
   "source": [
    "malaria_df.to_csv('malaria.csv')"
   ]
  },
  {
   "cell_type": "code",
   "execution_count": 22,
   "id": "bb0248b9-3855-4749-9f17-827e8d1956e9",
   "metadata": {
    "tags": []
   },
   "outputs": [],
   "source": [
    "import requests\n",
    "import pandas as pd\n",
    "# Define the base URL and indicator code for leprosy cases\n",
    "base_url = 'https://ghoapi.azureedge.net/api/'\n",
    "indicator_code_leprosy = 'WHS3_45'  # Indicator code for leprosy cases\n",
    "\n",
    "# Construct the full URL\n",
    "url_leprosy = f'{base_url}{indicator_code_leprosy}'\n",
    "\n",
    "# Make the API request\n",
    "response_leprosy = requests.get(url_leprosy)\n",
    "data_leprosy = response_leprosy.json()['value']\n",
    "# Create a DataFrame\n",
    "leprosy_df = pd.DataFrame(data_leprosy)\n"
   ]
  },
  {
   "cell_type": "code",
   "execution_count": 51,
   "id": "ad1ca496-bb0c-4335-994c-f52c39f99f5e",
   "metadata": {
    "tags": []
   },
   "outputs": [],
   "source": [
    "leprosy_df.to_csv('leprosy.csv')"
   ]
  },
  {
   "cell_type": "code",
   "execution_count": 24,
   "id": "ed20b9e3-7f4d-4d94-b543-f39e89d225b9",
   "metadata": {
    "tags": []
   },
   "outputs": [],
   "source": [
    "import requests\n",
    "import pandas as pd\n",
    "# Define the base URL and indicator code for cholera cases\n",
    "base_url = 'https://ghoapi.azureedge.net/api/'\n",
    "indicator_code_cholera = 'CHOLERA_0000000001'  # Indicator code for cholera cases\n",
    "\n",
    "# Construct the full URL\n",
    "url_cholera = f'{base_url}{indicator_code_cholera}'\n",
    "\n",
    "# Make the API request\n",
    "response_cholera = requests.get(url_cholera)\n",
    "data_cholera = response_cholera.json()['value']\n",
    "# Create a DataFrame\n",
    "cholera_df = pd.DataFrame(data_cholera)"
   ]
  },
  {
   "cell_type": "code",
   "execution_count": 56,
   "id": "5d8c0210-79ae-47be-b6d3-375dadcbc5c0",
   "metadata": {
    "tags": []
   },
   "outputs": [],
   "source": [
    "cholera_df.to_csv('cholera.csv')"
   ]
  }
 ],
 "metadata": {
  "kernelspec": {
   "display_name": "Python 3 (ipykernel)",
   "language": "python",
   "name": "python3"
  },
  "language_info": {
   "codemirror_mode": {
    "name": "ipython",
    "version": 3
   },
   "file_extension": ".py",
   "mimetype": "text/x-python",
   "name": "python",
   "nbconvert_exporter": "python",
   "pygments_lexer": "ipython3",
   "version": "3.11.7"
  }
 },
 "nbformat": 4,
 "nbformat_minor": 5
}
